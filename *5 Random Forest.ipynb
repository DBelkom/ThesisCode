{
 "cells": [
  {
   "cell_type": "code",
   "execution_count": 1,
   "metadata": {},
   "outputs": [],
   "source": [
    "import numpy as np\n",
    "import pandas as pd"
   ]
  },
  {
   "cell_type": "code",
   "execution_count": 2,
   "metadata": {},
   "outputs": [],
   "source": [
    "df = pd.read_excel('/Users/didyvanbelkom/Documents/02 MSc DSS/THESIS CODE/Jupiter Notebook/df_complete.xlsx')"
   ]
  },
  {
   "cell_type": "code",
   "execution_count": 3,
   "metadata": {},
   "outputs": [
    {
     "data": {
      "text/html": [
       "<div>\n",
       "<style scoped>\n",
       "    .dataframe tbody tr th:only-of-type {\n",
       "        vertical-align: middle;\n",
       "    }\n",
       "\n",
       "    .dataframe tbody tr th {\n",
       "        vertical-align: top;\n",
       "    }\n",
       "\n",
       "    .dataframe thead th {\n",
       "        text-align: right;\n",
       "    }\n",
       "</style>\n",
       "<table border=\"1\" class=\"dataframe\">\n",
       "  <thead>\n",
       "    <tr style=\"text-align: right;\">\n",
       "      <th></th>\n",
       "      <th>Unnamed: 0</th>\n",
       "      <th>Customer_ID</th>\n",
       "      <th>recency</th>\n",
       "      <th>frequency</th>\n",
       "      <th>monetary</th>\n",
       "      <th>TotalPrice</th>\n",
       "      <th>Top_10%_spend</th>\n",
       "    </tr>\n",
       "  </thead>\n",
       "  <tbody>\n",
       "    <tr>\n",
       "      <th>0</th>\n",
       "      <td>0</td>\n",
       "      <td>12346</td>\n",
       "      <td>0.439678</td>\n",
       "      <td>0.049020</td>\n",
       "      <td>0.001059</td>\n",
       "      <td>77183.60</td>\n",
       "      <td>1</td>\n",
       "    </tr>\n",
       "    <tr>\n",
       "      <th>1</th>\n",
       "      <td>1</td>\n",
       "      <td>12347</td>\n",
       "      <td>0.005362</td>\n",
       "      <td>0.004902</td>\n",
       "      <td>0.003782</td>\n",
       "      <td>4310.00</td>\n",
       "      <td>1</td>\n",
       "    </tr>\n",
       "    <tr>\n",
       "      <th>2</th>\n",
       "      <td>2</td>\n",
       "      <td>12348</td>\n",
       "      <td>0.195710</td>\n",
       "      <td>0.000000</td>\n",
       "      <td>0.000628</td>\n",
       "      <td>1797.24</td>\n",
       "      <td>0</td>\n",
       "    </tr>\n",
       "    <tr>\n",
       "      <th>3</th>\n",
       "      <td>3</td>\n",
       "      <td>12349</td>\n",
       "      <td>0.112601</td>\n",
       "      <td>0.009804</td>\n",
       "      <td>0.007642</td>\n",
       "      <td>1757.55</td>\n",
       "      <td>0</td>\n",
       "    </tr>\n",
       "    <tr>\n",
       "      <th>4</th>\n",
       "      <td>4</td>\n",
       "      <td>12352</td>\n",
       "      <td>0.026810</td>\n",
       "      <td>0.004902</td>\n",
       "      <td>0.000976</td>\n",
       "      <td>2506.04</td>\n",
       "      <td>0</td>\n",
       "    </tr>\n",
       "  </tbody>\n",
       "</table>\n",
       "</div>"
      ],
      "text/plain": [
       "   Unnamed: 0  Customer_ID   recency  frequency  monetary  TotalPrice  \\\n",
       "0           0        12346  0.439678   0.049020  0.001059    77183.60   \n",
       "1           1        12347  0.005362   0.004902  0.003782     4310.00   \n",
       "2           2        12348  0.195710   0.000000  0.000628     1797.24   \n",
       "3           3        12349  0.112601   0.009804  0.007642     1757.55   \n",
       "4           4        12352  0.026810   0.004902  0.000976     2506.04   \n",
       "\n",
       "   Top_10%_spend  \n",
       "0              1  \n",
       "1              1  \n",
       "2              0  \n",
       "3              0  \n",
       "4              0  "
      ]
     },
     "execution_count": 3,
     "metadata": {},
     "output_type": "execute_result"
    }
   ],
   "source": [
    "df.head()"
   ]
  },
  {
   "cell_type": "code",
   "execution_count": 4,
   "metadata": {},
   "outputs": [
    {
     "data": {
      "text/html": [
       "<div>\n",
       "<style scoped>\n",
       "    .dataframe tbody tr th:only-of-type {\n",
       "        vertical-align: middle;\n",
       "    }\n",
       "\n",
       "    .dataframe tbody tr th {\n",
       "        vertical-align: top;\n",
       "    }\n",
       "\n",
       "    .dataframe thead th {\n",
       "        text-align: right;\n",
       "    }\n",
       "</style>\n",
       "<table border=\"1\" class=\"dataframe\">\n",
       "  <thead>\n",
       "    <tr style=\"text-align: right;\">\n",
       "      <th></th>\n",
       "      <th>Customer_ID</th>\n",
       "      <th>recency</th>\n",
       "      <th>frequency</th>\n",
       "      <th>monetary</th>\n",
       "      <th>TotalPrice</th>\n",
       "      <th>Top_10%_spend</th>\n",
       "    </tr>\n",
       "  </thead>\n",
       "  <tbody>\n",
       "    <tr>\n",
       "      <th>0</th>\n",
       "      <td>12346</td>\n",
       "      <td>0.439678</td>\n",
       "      <td>0.049020</td>\n",
       "      <td>0.001059</td>\n",
       "      <td>77183.60</td>\n",
       "      <td>1</td>\n",
       "    </tr>\n",
       "    <tr>\n",
       "      <th>1</th>\n",
       "      <td>12347</td>\n",
       "      <td>0.005362</td>\n",
       "      <td>0.004902</td>\n",
       "      <td>0.003782</td>\n",
       "      <td>4310.00</td>\n",
       "      <td>1</td>\n",
       "    </tr>\n",
       "    <tr>\n",
       "      <th>2</th>\n",
       "      <td>12348</td>\n",
       "      <td>0.195710</td>\n",
       "      <td>0.000000</td>\n",
       "      <td>0.000628</td>\n",
       "      <td>1797.24</td>\n",
       "      <td>0</td>\n",
       "    </tr>\n",
       "    <tr>\n",
       "      <th>3</th>\n",
       "      <td>12349</td>\n",
       "      <td>0.112601</td>\n",
       "      <td>0.009804</td>\n",
       "      <td>0.007642</td>\n",
       "      <td>1757.55</td>\n",
       "      <td>0</td>\n",
       "    </tr>\n",
       "    <tr>\n",
       "      <th>4</th>\n",
       "      <td>12352</td>\n",
       "      <td>0.026810</td>\n",
       "      <td>0.004902</td>\n",
       "      <td>0.000976</td>\n",
       "      <td>2506.04</td>\n",
       "      <td>0</td>\n",
       "    </tr>\n",
       "    <tr>\n",
       "      <th>...</th>\n",
       "      <td>...</td>\n",
       "      <td>...</td>\n",
       "      <td>...</td>\n",
       "      <td>...</td>\n",
       "      <td>...</td>\n",
       "      <td>...</td>\n",
       "    </tr>\n",
       "    <tr>\n",
       "      <th>2767</th>\n",
       "      <td>18278</td>\n",
       "      <td>0.104558</td>\n",
       "      <td>0.000000</td>\n",
       "      <td>0.000680</td>\n",
       "      <td>173.90</td>\n",
       "      <td>0</td>\n",
       "    </tr>\n",
       "    <tr>\n",
       "      <th>2768</th>\n",
       "      <td>18280</td>\n",
       "      <td>0.077748</td>\n",
       "      <td>0.000000</td>\n",
       "      <td>0.000872</td>\n",
       "      <td>180.60</td>\n",
       "      <td>0</td>\n",
       "    </tr>\n",
       "    <tr>\n",
       "      <th>2769</th>\n",
       "      <td>18281</td>\n",
       "      <td>0.568365</td>\n",
       "      <td>0.000000</td>\n",
       "      <td>0.000336</td>\n",
       "      <td>80.82</td>\n",
       "      <td>0</td>\n",
       "    </tr>\n",
       "    <tr>\n",
       "      <th>2770</th>\n",
       "      <td>18283</td>\n",
       "      <td>0.045576</td>\n",
       "      <td>0.024510</td>\n",
       "      <td>0.001830</td>\n",
       "      <td>2094.88</td>\n",
       "      <td>0</td>\n",
       "    </tr>\n",
       "    <tr>\n",
       "      <th>2771</th>\n",
       "      <td>18287</td>\n",
       "      <td>0.045576</td>\n",
       "      <td>0.014706</td>\n",
       "      <td>0.006710</td>\n",
       "      <td>1837.28</td>\n",
       "      <td>0</td>\n",
       "    </tr>\n",
       "  </tbody>\n",
       "</table>\n",
       "<p>2772 rows × 6 columns</p>\n",
       "</div>"
      ],
      "text/plain": [
       "      Customer_ID   recency  frequency  monetary  TotalPrice  Top_10%_spend\n",
       "0           12346  0.439678   0.049020  0.001059    77183.60              1\n",
       "1           12347  0.005362   0.004902  0.003782     4310.00              1\n",
       "2           12348  0.195710   0.000000  0.000628     1797.24              0\n",
       "3           12349  0.112601   0.009804  0.007642     1757.55              0\n",
       "4           12352  0.026810   0.004902  0.000976     2506.04              0\n",
       "...           ...       ...        ...       ...         ...            ...\n",
       "2767        18278  0.104558   0.000000  0.000680      173.90              0\n",
       "2768        18280  0.077748   0.000000  0.000872      180.60              0\n",
       "2769        18281  0.568365   0.000000  0.000336       80.82              0\n",
       "2770        18283  0.045576   0.024510  0.001830     2094.88              0\n",
       "2771        18287  0.045576   0.014706  0.006710     1837.28              0\n",
       "\n",
       "[2772 rows x 6 columns]"
      ]
     },
     "execution_count": 4,
     "metadata": {},
     "output_type": "execute_result"
    }
   ],
   "source": [
    "df.drop(columns=['Unnamed: 0'])"
   ]
  },
  {
   "cell_type": "code",
   "execution_count": 5,
   "metadata": {},
   "outputs": [],
   "source": [
    "import matplotlib.pyplot as plt\n",
    "import seaborn as sns\n",
    "import datetime as dt\n",
    "\n",
    "# import required libraries for clustering\n",
    "import sklearn\n",
    "from sklearn.preprocessing import StandardScaler\n",
    "from sklearn.cluster import KMeans\n",
    "from sklearn.metrics import silhouette_score\n",
    "from scipy.cluster.hierarchy import linkage\n",
    "from scipy.cluster.hierarchy import dendrogram\n",
    "from scipy.cluster.hierarchy import cut_tree"
   ]
  },
  {
   "cell_type": "code",
   "execution_count": 6,
   "metadata": {},
   "outputs": [
    {
     "data": {
      "text/plain": [
       "KMeans(n_clusters=7)"
      ]
     },
     "execution_count": 6,
     "metadata": {},
     "output_type": "execute_result"
    }
   ],
   "source": [
    "km = KMeans(n_clusters = 7)\n",
    "km"
   ]
  },
  {
   "cell_type": "code",
   "execution_count": 7,
   "metadata": {},
   "outputs": [],
   "source": [
    "np.random.seed(123)"
   ]
  },
  {
   "cell_type": "code",
   "execution_count": 8,
   "metadata": {},
   "outputs": [
    {
     "data": {
      "text/plain": [
       "array([4, 0, 2, ..., 1, 0, 0], dtype=int32)"
      ]
     },
     "execution_count": 8,
     "metadata": {},
     "output_type": "execute_result"
    }
   ],
   "source": [
    "y_predicted = km.fit_predict(df[['recency', 'frequency', 'monetary']])\n",
    "y_predicted"
   ]
  },
  {
   "cell_type": "code",
   "execution_count": 9,
   "metadata": {},
   "outputs": [
    {
     "data": {
      "text/html": [
       "<div>\n",
       "<style scoped>\n",
       "    .dataframe tbody tr th:only-of-type {\n",
       "        vertical-align: middle;\n",
       "    }\n",
       "\n",
       "    .dataframe tbody tr th {\n",
       "        vertical-align: top;\n",
       "    }\n",
       "\n",
       "    .dataframe thead th {\n",
       "        text-align: right;\n",
       "    }\n",
       "</style>\n",
       "<table border=\"1\" class=\"dataframe\">\n",
       "  <thead>\n",
       "    <tr style=\"text-align: right;\">\n",
       "      <th></th>\n",
       "      <th>Unnamed: 0</th>\n",
       "      <th>Customer_ID</th>\n",
       "      <th>recency</th>\n",
       "      <th>frequency</th>\n",
       "      <th>monetary</th>\n",
       "      <th>TotalPrice</th>\n",
       "      <th>Top_10%_spend</th>\n",
       "      <th>cluster</th>\n",
       "    </tr>\n",
       "  </thead>\n",
       "  <tbody>\n",
       "    <tr>\n",
       "      <th>0</th>\n",
       "      <td>0</td>\n",
       "      <td>12346</td>\n",
       "      <td>0.439678</td>\n",
       "      <td>0.049020</td>\n",
       "      <td>0.001059</td>\n",
       "      <td>77183.60</td>\n",
       "      <td>1</td>\n",
       "      <td>4</td>\n",
       "    </tr>\n",
       "    <tr>\n",
       "      <th>1</th>\n",
       "      <td>1</td>\n",
       "      <td>12347</td>\n",
       "      <td>0.005362</td>\n",
       "      <td>0.004902</td>\n",
       "      <td>0.003782</td>\n",
       "      <td>4310.00</td>\n",
       "      <td>1</td>\n",
       "      <td>0</td>\n",
       "    </tr>\n",
       "    <tr>\n",
       "      <th>2</th>\n",
       "      <td>2</td>\n",
       "      <td>12348</td>\n",
       "      <td>0.195710</td>\n",
       "      <td>0.000000</td>\n",
       "      <td>0.000628</td>\n",
       "      <td>1797.24</td>\n",
       "      <td>0</td>\n",
       "      <td>2</td>\n",
       "    </tr>\n",
       "    <tr>\n",
       "      <th>3</th>\n",
       "      <td>3</td>\n",
       "      <td>12349</td>\n",
       "      <td>0.112601</td>\n",
       "      <td>0.009804</td>\n",
       "      <td>0.007642</td>\n",
       "      <td>1757.55</td>\n",
       "      <td>0</td>\n",
       "      <td>2</td>\n",
       "    </tr>\n",
       "    <tr>\n",
       "      <th>4</th>\n",
       "      <td>4</td>\n",
       "      <td>12352</td>\n",
       "      <td>0.026810</td>\n",
       "      <td>0.004902</td>\n",
       "      <td>0.000976</td>\n",
       "      <td>2506.04</td>\n",
       "      <td>0</td>\n",
       "      <td>0</td>\n",
       "    </tr>\n",
       "  </tbody>\n",
       "</table>\n",
       "</div>"
      ],
      "text/plain": [
       "   Unnamed: 0  Customer_ID   recency  frequency  monetary  TotalPrice  \\\n",
       "0           0        12346  0.439678   0.049020  0.001059    77183.60   \n",
       "1           1        12347  0.005362   0.004902  0.003782     4310.00   \n",
       "2           2        12348  0.195710   0.000000  0.000628     1797.24   \n",
       "3           3        12349  0.112601   0.009804  0.007642     1757.55   \n",
       "4           4        12352  0.026810   0.004902  0.000976     2506.04   \n",
       "\n",
       "   Top_10%_spend  cluster  \n",
       "0              1        4  \n",
       "1              1        0  \n",
       "2              0        2  \n",
       "3              0        2  \n",
       "4              0        0  "
      ]
     },
     "execution_count": 9,
     "metadata": {},
     "output_type": "execute_result"
    }
   ],
   "source": [
    "df['cluster'] = y_predicted\n",
    "df.head()"
   ]
  },
  {
   "cell_type": "code",
   "execution_count": 10,
   "metadata": {},
   "outputs": [
    {
     "data": {
      "text/plain": [
       "Unnamed: 0  Customer_ID  recency   frequency  monetary  TotalPrice  Top_10%_spend  cluster\n",
       "2771        18287        0.045576  0.014706   0.006710  1837.28     0              0          1\n",
       "919         14403        0.600536  0.004902   0.001151  1475.81     0              1          1\n",
       "927         14415        0.037534  0.044118   0.017724  5900.28     1              0          1\n",
       "926         14414        0.024129  0.000000   0.002576  1496.98     0              0          1\n",
       "925         14413        0.120643  0.009804   0.001846  122.70      0              2          1\n",
       "                                                                                             ..\n",
       "1847        16325        0.158177  0.039216   0.008593  594.24      0              2          1\n",
       "1846        16323        0.568365  0.000000   0.000410  207.50      0              1          1\n",
       "1845        16321        0.699732  0.004902   0.000653  373.65      0              1          1\n",
       "1844        16320        0.235925  0.014706   0.013139  1038.46     0              5          1\n",
       "0           12346        0.439678  0.049020   0.001059  77183.60    1              4          1\n",
       "Length: 2772, dtype: int64"
      ]
     },
     "execution_count": 10,
     "metadata": {},
     "output_type": "execute_result"
    }
   ],
   "source": [
    "df.value_counts()"
   ]
  },
  {
   "cell_type": "code",
   "execution_count": 11,
   "metadata": {},
   "outputs": [],
   "source": [
    "test = df.groupby(['cluster', 'Top_10%_spend']).count()"
   ]
  },
  {
   "cell_type": "code",
   "execution_count": 12,
   "metadata": {},
   "outputs": [
    {
     "name": "stdout",
     "output_type": "stream",
     "text": [
      "cluster  Top_10%_spend\n",
      "0        0                1115\n",
      "         1                 288\n",
      "1        0                 143\n",
      "2        0                 607\n",
      "         1                  52\n",
      "3        0                  61\n",
      "         1                   2\n",
      "4        0                 177\n",
      "         1                   6\n",
      "5        0                 287\n",
      "         1                  21\n",
      "6        1                  13\n",
      "Name: Customer_ID, dtype: int64\n"
     ]
    }
   ],
   "source": [
    "print(test['Customer_ID'])"
   ]
  },
  {
   "cell_type": "code",
   "execution_count": 13,
   "metadata": {},
   "outputs": [],
   "source": [
    "df_test = df.loc[df['cluster'] == 0]"
   ]
  },
  {
   "cell_type": "code",
   "execution_count": 14,
   "metadata": {},
   "outputs": [
    {
     "data": {
      "text/html": [
       "<div>\n",
       "<style scoped>\n",
       "    .dataframe tbody tr th:only-of-type {\n",
       "        vertical-align: middle;\n",
       "    }\n",
       "\n",
       "    .dataframe tbody tr th {\n",
       "        vertical-align: top;\n",
       "    }\n",
       "\n",
       "    .dataframe thead th {\n",
       "        text-align: right;\n",
       "    }\n",
       "</style>\n",
       "<table border=\"1\" class=\"dataframe\">\n",
       "  <thead>\n",
       "    <tr style=\"text-align: right;\">\n",
       "      <th></th>\n",
       "      <th>Unnamed: 0</th>\n",
       "      <th>Customer_ID</th>\n",
       "      <th>recency</th>\n",
       "      <th>frequency</th>\n",
       "      <th>monetary</th>\n",
       "      <th>TotalPrice</th>\n",
       "      <th>Top_10%_spend</th>\n",
       "      <th>cluster</th>\n",
       "    </tr>\n",
       "  </thead>\n",
       "  <tbody>\n",
       "    <tr>\n",
       "      <th>count</th>\n",
       "      <td>1403.000000</td>\n",
       "      <td>1403.000000</td>\n",
       "      <td>1403.000000</td>\n",
       "      <td>1403.000000</td>\n",
       "      <td>1403.000000</td>\n",
       "      <td>1403.000000</td>\n",
       "      <td>1403.000000</td>\n",
       "      <td>1403.0</td>\n",
       "    </tr>\n",
       "    <tr>\n",
       "      <th>mean</th>\n",
       "      <td>1425.173913</td>\n",
       "      <td>15429.025659</td>\n",
       "      <td>0.034805</td>\n",
       "      <td>0.031288</td>\n",
       "      <td>0.009231</td>\n",
       "      <td>3038.377670</td>\n",
       "      <td>0.205274</td>\n",
       "      <td>0.0</td>\n",
       "    </tr>\n",
       "    <tr>\n",
       "      <th>std</th>\n",
       "      <td>802.538821</td>\n",
       "      <td>1707.098846</td>\n",
       "      <td>0.025576</td>\n",
       "      <td>0.036981</td>\n",
       "      <td>0.017097</td>\n",
       "      <td>8350.640631</td>\n",
       "      <td>0.404046</td>\n",
       "      <td>0.0</td>\n",
       "    </tr>\n",
       "    <tr>\n",
       "      <th>min</th>\n",
       "      <td>1.000000</td>\n",
       "      <td>12347.000000</td>\n",
       "      <td>0.000000</td>\n",
       "      <td>0.000000</td>\n",
       "      <td>0.000078</td>\n",
       "      <td>15.000000</td>\n",
       "      <td>0.000000</td>\n",
       "      <td>0.0</td>\n",
       "    </tr>\n",
       "    <tr>\n",
       "      <th>25%</th>\n",
       "      <td>739.500000</td>\n",
       "      <td>13994.000000</td>\n",
       "      <td>0.010724</td>\n",
       "      <td>0.009804</td>\n",
       "      <td>0.002108</td>\n",
       "      <td>483.525000</td>\n",
       "      <td>0.000000</td>\n",
       "      <td>0.0</td>\n",
       "    </tr>\n",
       "    <tr>\n",
       "      <th>50%</th>\n",
       "      <td>1460.000000</td>\n",
       "      <td>15513.000000</td>\n",
       "      <td>0.029491</td>\n",
       "      <td>0.019608</td>\n",
       "      <td>0.004671</td>\n",
       "      <td>1258.060000</td>\n",
       "      <td>0.000000</td>\n",
       "      <td>0.0</td>\n",
       "    </tr>\n",
       "    <tr>\n",
       "      <th>75%</th>\n",
       "      <td>2126.500000</td>\n",
       "      <td>16924.500000</td>\n",
       "      <td>0.056300</td>\n",
       "      <td>0.039216</td>\n",
       "      <td>0.009551</td>\n",
       "      <td>2975.120000</td>\n",
       "      <td>0.000000</td>\n",
       "      <td>0.0</td>\n",
       "    </tr>\n",
       "    <tr>\n",
       "      <th>max</th>\n",
       "      <td>2771.000000</td>\n",
       "      <td>18287.000000</td>\n",
       "      <td>0.093834</td>\n",
       "      <td>0.333333</td>\n",
       "      <td>0.242118</td>\n",
       "      <td>194550.790000</td>\n",
       "      <td>1.000000</td>\n",
       "      <td>0.0</td>\n",
       "    </tr>\n",
       "  </tbody>\n",
       "</table>\n",
       "</div>"
      ],
      "text/plain": [
       "        Unnamed: 0   Customer_ID      recency    frequency     monetary  \\\n",
       "count  1403.000000   1403.000000  1403.000000  1403.000000  1403.000000   \n",
       "mean   1425.173913  15429.025659     0.034805     0.031288     0.009231   \n",
       "std     802.538821   1707.098846     0.025576     0.036981     0.017097   \n",
       "min       1.000000  12347.000000     0.000000     0.000000     0.000078   \n",
       "25%     739.500000  13994.000000     0.010724     0.009804     0.002108   \n",
       "50%    1460.000000  15513.000000     0.029491     0.019608     0.004671   \n",
       "75%    2126.500000  16924.500000     0.056300     0.039216     0.009551   \n",
       "max    2771.000000  18287.000000     0.093834     0.333333     0.242118   \n",
       "\n",
       "          TotalPrice  Top_10%_spend  cluster  \n",
       "count    1403.000000    1403.000000   1403.0  \n",
       "mean     3038.377670       0.205274      0.0  \n",
       "std      8350.640631       0.404046      0.0  \n",
       "min        15.000000       0.000000      0.0  \n",
       "25%       483.525000       0.000000      0.0  \n",
       "50%      1258.060000       0.000000      0.0  \n",
       "75%      2975.120000       0.000000      0.0  \n",
       "max    194550.790000       1.000000      0.0  "
      ]
     },
     "execution_count": 14,
     "metadata": {},
     "output_type": "execute_result"
    }
   ],
   "source": [
    "df_test.describe()"
   ]
  },
  {
   "cell_type": "code",
   "execution_count": 15,
   "metadata": {},
   "outputs": [],
   "source": [
    "df_test = df_test.drop(columns=['Unnamed: 0', 'Customer_ID', 'TotalPrice', 'cluster'])"
   ]
  },
  {
   "cell_type": "code",
   "execution_count": 16,
   "metadata": {},
   "outputs": [
    {
     "data": {
      "text/html": [
       "<div>\n",
       "<style scoped>\n",
       "    .dataframe tbody tr th:only-of-type {\n",
       "        vertical-align: middle;\n",
       "    }\n",
       "\n",
       "    .dataframe tbody tr th {\n",
       "        vertical-align: top;\n",
       "    }\n",
       "\n",
       "    .dataframe thead th {\n",
       "        text-align: right;\n",
       "    }\n",
       "</style>\n",
       "<table border=\"1\" class=\"dataframe\">\n",
       "  <thead>\n",
       "    <tr style=\"text-align: right;\">\n",
       "      <th></th>\n",
       "      <th>recency</th>\n",
       "      <th>frequency</th>\n",
       "      <th>monetary</th>\n",
       "      <th>Top_10%_spend</th>\n",
       "    </tr>\n",
       "  </thead>\n",
       "  <tbody>\n",
       "    <tr>\n",
       "      <th>1</th>\n",
       "      <td>0.005362</td>\n",
       "      <td>0.004902</td>\n",
       "      <td>0.003782</td>\n",
       "      <td>1</td>\n",
       "    </tr>\n",
       "    <tr>\n",
       "      <th>4</th>\n",
       "      <td>0.026810</td>\n",
       "      <td>0.004902</td>\n",
       "      <td>0.000976</td>\n",
       "      <td>0</td>\n",
       "    </tr>\n",
       "    <tr>\n",
       "      <th>7</th>\n",
       "      <td>0.040214</td>\n",
       "      <td>0.009804</td>\n",
       "      <td>0.010194</td>\n",
       "      <td>0</td>\n",
       "    </tr>\n",
       "    <tr>\n",
       "      <th>8</th>\n",
       "      <td>0.061662</td>\n",
       "      <td>0.004902</td>\n",
       "      <td>0.034589</td>\n",
       "      <td>1</td>\n",
       "    </tr>\n",
       "    <tr>\n",
       "      <th>9</th>\n",
       "      <td>0.026810</td>\n",
       "      <td>0.009804</td>\n",
       "      <td>0.007779</td>\n",
       "      <td>0</td>\n",
       "    </tr>\n",
       "  </tbody>\n",
       "</table>\n",
       "</div>"
      ],
      "text/plain": [
       "    recency  frequency  monetary  Top_10%_spend\n",
       "1  0.005362   0.004902  0.003782              1\n",
       "4  0.026810   0.004902  0.000976              0\n",
       "7  0.040214   0.009804  0.010194              0\n",
       "8  0.061662   0.004902  0.034589              1\n",
       "9  0.026810   0.009804  0.007779              0"
      ]
     },
     "execution_count": 16,
     "metadata": {},
     "output_type": "execute_result"
    }
   ],
   "source": [
    "df_test.head()"
   ]
  },
  {
   "cell_type": "code",
   "execution_count": 17,
   "metadata": {},
   "outputs": [
    {
     "data": {
      "text/plain": [
       "0    1115\n",
       "1     288\n",
       "Name: Top_10%_spend, dtype: int64"
      ]
     },
     "execution_count": 17,
     "metadata": {},
     "output_type": "execute_result"
    }
   ],
   "source": [
    "df_test['Top_10%_spend'].value_counts()"
   ]
  },
  {
   "cell_type": "code",
   "execution_count": 18,
   "metadata": {},
   "outputs": [],
   "source": [
    "X = df_test.drop(columns = ['Top_10%_spend'])\n",
    "y = df_test['Top_10%_spend']"
   ]
  },
  {
   "cell_type": "code",
   "execution_count": 19,
   "metadata": {},
   "outputs": [],
   "source": [
    "from sklearn.model_selection import train_test_split\n",
    "X_train,X_test,y_train,y_test=train_test_split(X,y,test_size=0.3,random_state=123)"
   ]
  },
  {
   "cell_type": "code",
   "execution_count": null,
   "metadata": {},
   "outputs": [],
   "source": [
    "#Random Forest not using oversampling"
   ]
  },
  {
   "cell_type": "code",
   "execution_count": 20,
   "metadata": {},
   "outputs": [],
   "source": [
    "from sklearn.ensemble import RandomForestClassifier"
   ]
  },
  {
   "cell_type": "code",
   "execution_count": 21,
   "metadata": {},
   "outputs": [
    {
     "data": {
      "text/plain": [
       "RandomForestClassifier(random_state=123)"
      ]
     },
     "execution_count": 21,
     "metadata": {},
     "output_type": "execute_result"
    }
   ],
   "source": [
    "rfc = RandomForestClassifier(n_estimators=100, random_state = 123)\n",
    "rfc.fit(X_train,y_train)"
   ]
  },
  {
   "cell_type": "code",
   "execution_count": 22,
   "metadata": {},
   "outputs": [],
   "source": [
    "y_pred_rf = rfc.predict(X_test)"
   ]
  },
  {
   "cell_type": "code",
   "execution_count": 23,
   "metadata": {},
   "outputs": [
    {
     "data": {
      "text/plain": [
       "array([[303,  23],\n",
       "       [ 36,  59]])"
      ]
     },
     "execution_count": 23,
     "metadata": {},
     "output_type": "execute_result"
    }
   ],
   "source": [
    "from sklearn import metrics\n",
    "cnf_matrix = metrics.confusion_matrix(y_test, y_pred_rf)\n",
    "cnf_matrix"
   ]
  },
  {
   "cell_type": "code",
   "execution_count": 24,
   "metadata": {},
   "outputs": [
    {
     "name": "stdout",
     "output_type": "stream",
     "text": [
      "Accuracy: 0.8598574821852731\n",
      "Precision: 0.7195121951219512\n",
      "Recall: 0.6210526315789474\n"
     ]
    }
   ],
   "source": [
    "print(\"Accuracy:\",metrics.accuracy_score(y_test, y_pred_rf))\n",
    "print(\"Precision:\",metrics.precision_score(y_test, y_pred_rf))\n",
    "print(\"Recall:\",metrics.recall_score(y_test, y_pred_rf))"
   ]
  },
  {
   "cell_type": "code",
   "execution_count": 25,
   "metadata": {},
   "outputs": [],
   "source": [
    "y_pred_proba = rfc.predict_proba(X_test)[::,1]\n",
    "auc = metrics.roc_auc_score(y_test, y_pred_proba)"
   ]
  },
  {
   "cell_type": "code",
   "execution_count": 26,
   "metadata": {},
   "outputs": [
    {
     "name": "stdout",
     "output_type": "stream",
     "text": [
      "0.903406522441072\n"
     ]
    }
   ],
   "source": [
    "print(auc)"
   ]
  },
  {
   "cell_type": "code",
   "execution_count": 35,
   "metadata": {},
   "outputs": [
    {
     "name": "stdout",
     "output_type": "stream",
     "text": [
      "0.6666666666666667\n"
     ]
    }
   ],
   "source": [
    "f1_rf = metrics.f1_score(y_test, y_pred_rf)\n",
    "print(f1_rf)"
   ]
  },
  {
   "cell_type": "code",
   "execution_count": null,
   "metadata": {},
   "outputs": [],
   "source": [
    "#Random Forest using oversampling"
   ]
  },
  {
   "cell_type": "code",
   "execution_count": 27,
   "metadata": {},
   "outputs": [],
   "source": [
    "from imblearn.over_sampling import RandomOverSampler, SMOTE"
   ]
  },
  {
   "cell_type": "code",
   "execution_count": 28,
   "metadata": {},
   "outputs": [],
   "source": [
    "ros = RandomOverSampler(random_state=123)\n",
    "X_train_ros, y_train_ros= ros.fit_resample(X_train, y_train)"
   ]
  },
  {
   "cell_type": "code",
   "execution_count": 29,
   "metadata": {},
   "outputs": [],
   "source": [
    "rfc = RandomForestClassifier(n_estimators=100, random_state = 123)\n",
    "test_model = rfc.fit(X_train_ros, y_train_ros)\n",
    "test_prediction = test_model.predict(X_test)"
   ]
  },
  {
   "cell_type": "code",
   "execution_count": 30,
   "metadata": {},
   "outputs": [
    {
     "data": {
      "text/plain": [
       "array([[293,  33],\n",
       "       [ 29,  66]])"
      ]
     },
     "execution_count": 30,
     "metadata": {},
     "output_type": "execute_result"
    }
   ],
   "source": [
    "cnf_matrix2 = metrics.confusion_matrix(y_test,test_prediction)\n",
    "cnf_matrix2"
   ]
  },
  {
   "cell_type": "code",
   "execution_count": 31,
   "metadata": {},
   "outputs": [
    {
     "name": "stdout",
     "output_type": "stream",
     "text": [
      "Accuracy: 0.8527315914489311\n",
      "Precision: 0.6666666666666666\n",
      "Recall: 0.6947368421052632\n"
     ]
    }
   ],
   "source": [
    "print(\"Accuracy:\",metrics.accuracy_score(y_test, test_prediction))\n",
    "print(\"Precision:\",metrics.precision_score(y_test, test_prediction))\n",
    "print(\"Recall:\",metrics.recall_score(y_test, test_prediction))"
   ]
  },
  {
   "cell_type": "code",
   "execution_count": 32,
   "metadata": {},
   "outputs": [],
   "source": [
    "y_pred_proba2 = test_model.predict_proba(X_test)[::,1]\n",
    "auc2 = metrics.roc_auc_score(y_test, y_pred_proba2)"
   ]
  },
  {
   "cell_type": "code",
   "execution_count": 33,
   "metadata": {},
   "outputs": [
    {
     "name": "stdout",
     "output_type": "stream",
     "text": [
      "0.8981272198902164\n"
     ]
    }
   ],
   "source": [
    "print(auc2)"
   ]
  },
  {
   "cell_type": "code",
   "execution_count": 36,
   "metadata": {},
   "outputs": [
    {
     "name": "stdout",
     "output_type": "stream",
     "text": [
      "0.6804123711340206\n"
     ]
    }
   ],
   "source": [
    "f1_rf2 = metrics.f1_score(y_test, test_prediction)\n",
    "print(f1_rf2)"
   ]
  }
 ],
 "metadata": {
  "kernelspec": {
   "display_name": "Python 3",
   "language": "python",
   "name": "python3"
  },
  "language_info": {
   "codemirror_mode": {
    "name": "ipython",
    "version": 3
   },
   "file_extension": ".py",
   "mimetype": "text/x-python",
   "name": "python",
   "nbconvert_exporter": "python",
   "pygments_lexer": "ipython3",
   "version": "3.8.5"
  }
 },
 "nbformat": 4,
 "nbformat_minor": 4
}
