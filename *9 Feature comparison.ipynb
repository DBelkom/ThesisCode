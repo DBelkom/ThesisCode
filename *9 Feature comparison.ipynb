{
 "cells": [
  {
   "cell_type": "code",
   "execution_count": 1,
   "metadata": {},
   "outputs": [],
   "source": [
    "#XGBoost on complete dataset - normalized data - no oversampling"
   ]
  },
  {
   "cell_type": "code",
   "execution_count": 2,
   "metadata": {},
   "outputs": [],
   "source": [
    "import numpy as np\n",
    "import pandas as pd"
   ]
  },
  {
   "cell_type": "code",
   "execution_count": 3,
   "metadata": {},
   "outputs": [],
   "source": [
    "df = pd.read_excel('/Users/didyvanbelkom/Documents/02 MSc DSS/THESIS CODE/Jupiter Notebook/df_complete.xlsx')"
   ]
  },
  {
   "cell_type": "code",
   "execution_count": 4,
   "metadata": {},
   "outputs": [],
   "source": [
    "df = df.drop(columns=['Unnamed: 0', 'TotalPrice'])"
   ]
  },
  {
   "cell_type": "code",
   "execution_count": 5,
   "metadata": {},
   "outputs": [
    {
     "data": {
      "text/html": [
       "<div>\n",
       "<style scoped>\n",
       "    .dataframe tbody tr th:only-of-type {\n",
       "        vertical-align: middle;\n",
       "    }\n",
       "\n",
       "    .dataframe tbody tr th {\n",
       "        vertical-align: top;\n",
       "    }\n",
       "\n",
       "    .dataframe thead th {\n",
       "        text-align: right;\n",
       "    }\n",
       "</style>\n",
       "<table border=\"1\" class=\"dataframe\">\n",
       "  <thead>\n",
       "    <tr style=\"text-align: right;\">\n",
       "      <th></th>\n",
       "      <th>Customer_ID</th>\n",
       "      <th>recency</th>\n",
       "      <th>frequency</th>\n",
       "      <th>monetary</th>\n",
       "      <th>Top_10%_spend</th>\n",
       "    </tr>\n",
       "  </thead>\n",
       "  <tbody>\n",
       "    <tr>\n",
       "      <th>0</th>\n",
       "      <td>12346</td>\n",
       "      <td>0.439678</td>\n",
       "      <td>0.049020</td>\n",
       "      <td>0.001059</td>\n",
       "      <td>1</td>\n",
       "    </tr>\n",
       "    <tr>\n",
       "      <th>1</th>\n",
       "      <td>12347</td>\n",
       "      <td>0.005362</td>\n",
       "      <td>0.004902</td>\n",
       "      <td>0.003782</td>\n",
       "      <td>1</td>\n",
       "    </tr>\n",
       "    <tr>\n",
       "      <th>2</th>\n",
       "      <td>12348</td>\n",
       "      <td>0.195710</td>\n",
       "      <td>0.000000</td>\n",
       "      <td>0.000628</td>\n",
       "      <td>0</td>\n",
       "    </tr>\n",
       "    <tr>\n",
       "      <th>3</th>\n",
       "      <td>12349</td>\n",
       "      <td>0.112601</td>\n",
       "      <td>0.009804</td>\n",
       "      <td>0.007642</td>\n",
       "      <td>0</td>\n",
       "    </tr>\n",
       "    <tr>\n",
       "      <th>4</th>\n",
       "      <td>12352</td>\n",
       "      <td>0.026810</td>\n",
       "      <td>0.004902</td>\n",
       "      <td>0.000976</td>\n",
       "      <td>0</td>\n",
       "    </tr>\n",
       "  </tbody>\n",
       "</table>\n",
       "</div>"
      ],
      "text/plain": [
       "   Customer_ID   recency  frequency  monetary  Top_10%_spend\n",
       "0        12346  0.439678   0.049020  0.001059              1\n",
       "1        12347  0.005362   0.004902  0.003782              1\n",
       "2        12348  0.195710   0.000000  0.000628              0\n",
       "3        12349  0.112601   0.009804  0.007642              0\n",
       "4        12352  0.026810   0.004902  0.000976              0"
      ]
     },
     "execution_count": 5,
     "metadata": {},
     "output_type": "execute_result"
    }
   ],
   "source": [
    "df.head()"
   ]
  },
  {
   "cell_type": "code",
   "execution_count": 6,
   "metadata": {},
   "outputs": [],
   "source": [
    "X = df[['recency', 'frequency', 'monetary']]\n",
    "y = df['Top_10%_spend']"
   ]
  },
  {
   "cell_type": "code",
   "execution_count": 6,
   "metadata": {},
   "outputs": [
    {
     "name": "stdout",
     "output_type": "stream",
     "text": [
      "Fitting 5 folds for each of 54 candidates, totalling 270 fits\n",
      "Best parameters: {'colsample_bytree': 0.7, 'learning_rate': 0.01, 'max_depth': 3, 'n_estimators': 500}\n",
      "Lowest RMSE:  0.28678576113117793\n"
     ]
    }
   ],
   "source": [
    "import xgboost as xgb\n",
    "from sklearn.model_selection import GridSearchCV\n",
    "params = { 'max_depth': [3,6,10],\n",
    "           'learning_rate': [0.01, 0.05, 0.1],\n",
    "           'n_estimators': [100, 500, 1000],\n",
    "           'colsample_bytree': [0.3, 0.7]}\n",
    "\n",
    "xgbr = xgb.XGBClassifier(random_state = 123, use_label_encoder=False, eval_metric = 'error')\n",
    "clf = GridSearchCV(estimator=xgbr, \n",
    "                   param_grid=params,\n",
    "                   scoring='neg_mean_squared_error', \n",
    "                   verbose=1)\n",
    "clf.fit(X, y)\n",
    "print(\"Best parameters:\", clf.best_params_)\n",
    "print(\"Lowest RMSE: \", (-clf.best_score_)**(1/2.0))"
   ]
  },
  {
   "cell_type": "code",
   "execution_count": 7,
   "metadata": {},
   "outputs": [],
   "source": [
    "from sklearn.model_selection import train_test_split\n",
    "X_train,X_test,y_train,y_test=train_test_split(X,y,test_size=0.3,random_state=123)"
   ]
  },
  {
   "cell_type": "code",
   "execution_count": 8,
   "metadata": {},
   "outputs": [],
   "source": [
    "import xgboost as xgb\n",
    "clf_xgb = xgb.XGBClassifier(objective = 'binary:logistic', missing = None, random_state = 123, use_label_encoder=False, colsample_bytree = 0.7, learning_rate = 0.01, max_depth = 3, n_estimators = 500)"
   ]
  },
  {
   "cell_type": "code",
   "execution_count": 9,
   "metadata": {},
   "outputs": [
    {
     "name": "stdout",
     "output_type": "stream",
     "text": [
      "[0]\tvalidation_0-aucpr:0.71381\n",
      "[1]\tvalidation_0-aucpr:0.71128\n",
      "[2]\tvalidation_0-aucpr:0.71555\n",
      "[3]\tvalidation_0-aucpr:0.71628\n",
      "[4]\tvalidation_0-aucpr:0.71509\n",
      "[5]\tvalidation_0-aucpr:0.71530\n",
      "[6]\tvalidation_0-aucpr:0.71654\n",
      "[7]\tvalidation_0-aucpr:0.71654\n",
      "[8]\tvalidation_0-aucpr:0.71555\n",
      "[9]\tvalidation_0-aucpr:0.71594\n",
      "[10]\tvalidation_0-aucpr:0.74360\n",
      "[11]\tvalidation_0-aucpr:0.74380\n",
      "[12]\tvalidation_0-aucpr:0.74384\n",
      "[13]\tvalidation_0-aucpr:0.74470\n",
      "[14]\tvalidation_0-aucpr:0.74514\n",
      "[15]\tvalidation_0-aucpr:0.74500\n",
      "[16]\tvalidation_0-aucpr:0.74478\n",
      "[17]\tvalidation_0-aucpr:0.74686\n",
      "[18]\tvalidation_0-aucpr:0.74704\n",
      "[19]\tvalidation_0-aucpr:0.74768\n",
      "[20]\tvalidation_0-aucpr:0.74819\n",
      "[21]\tvalidation_0-aucpr:0.74770\n",
      "[22]\tvalidation_0-aucpr:0.74863\n",
      "[23]\tvalidation_0-aucpr:0.74895\n",
      "[24]\tvalidation_0-aucpr:0.74877\n",
      "[25]\tvalidation_0-aucpr:0.74877\n",
      "[26]\tvalidation_0-aucpr:0.74886\n",
      "[27]\tvalidation_0-aucpr:0.74885\n",
      "[28]\tvalidation_0-aucpr:0.74918\n",
      "[29]\tvalidation_0-aucpr:0.74944\n",
      "[30]\tvalidation_0-aucpr:0.74964\n",
      "[31]\tvalidation_0-aucpr:0.74949\n",
      "[32]\tvalidation_0-aucpr:0.74971\n",
      "[33]\tvalidation_0-aucpr:0.75065\n",
      "[34]\tvalidation_0-aucpr:0.75073\n",
      "[35]\tvalidation_0-aucpr:0.74997\n",
      "[36]\tvalidation_0-aucpr:0.75001\n",
      "[37]\tvalidation_0-aucpr:0.75010\n",
      "[38]\tvalidation_0-aucpr:0.75046\n",
      "[39]\tvalidation_0-aucpr:0.74947\n",
      "[40]\tvalidation_0-aucpr:0.75040\n",
      "[41]\tvalidation_0-aucpr:0.75084\n",
      "[42]\tvalidation_0-aucpr:0.75079\n",
      "[43]\tvalidation_0-aucpr:0.75077\n",
      "[44]\tvalidation_0-aucpr:0.75122\n",
      "[45]\tvalidation_0-aucpr:0.75093\n",
      "[46]\tvalidation_0-aucpr:0.75093\n",
      "[47]\tvalidation_0-aucpr:0.75100\n",
      "[48]\tvalidation_0-aucpr:0.75155\n",
      "[49]\tvalidation_0-aucpr:0.75137\n",
      "[50]\tvalidation_0-aucpr:0.75097\n",
      "[51]\tvalidation_0-aucpr:0.75214\n",
      "[52]\tvalidation_0-aucpr:0.75116\n",
      "[53]\tvalidation_0-aucpr:0.75081\n",
      "[54]\tvalidation_0-aucpr:0.75134\n",
      "[55]\tvalidation_0-aucpr:0.75123\n",
      "[56]\tvalidation_0-aucpr:0.75157\n",
      "[57]\tvalidation_0-aucpr:0.75154\n",
      "[58]\tvalidation_0-aucpr:0.74903\n",
      "[59]\tvalidation_0-aucpr:0.74905\n",
      "[60]\tvalidation_0-aucpr:0.74908\n",
      "[61]\tvalidation_0-aucpr:0.74878\n"
     ]
    },
    {
     "data": {
      "text/plain": [
       "XGBClassifier(base_score=0.5, booster='gbtree', colsample_bylevel=1,\n",
       "              colsample_bynode=1, colsample_bytree=0.7, gamma=0, gpu_id=-1,\n",
       "              importance_type='gain', interaction_constraints='',\n",
       "              learning_rate=0.01, max_delta_step=0, max_depth=3,\n",
       "              min_child_weight=1, missing=None, monotone_constraints='()',\n",
       "              n_estimators=500, n_jobs=8, num_parallel_tree=1, random_state=123,\n",
       "              reg_alpha=0, reg_lambda=1, scale_pos_weight=1, subsample=1,\n",
       "              tree_method='exact', use_label_encoder=False,\n",
       "              validate_parameters=1, verbosity=None)"
      ]
     },
     "execution_count": 9,
     "metadata": {},
     "output_type": "execute_result"
    }
   ],
   "source": [
    "clf_xgb.fit(X_train, \n",
    "            y_train,\n",
    "            verbose = True,\n",
    "            early_stopping_rounds = 10,\n",
    "            eval_metric = 'aucpr',\n",
    "            eval_set = [[X_test, y_test]])"
   ]
  },
  {
   "cell_type": "code",
   "execution_count": 10,
   "metadata": {},
   "outputs": [],
   "source": [
    "xgb_preds = clf_xgb.predict(X_test)"
   ]
  },
  {
   "cell_type": "code",
   "execution_count": 11,
   "metadata": {},
   "outputs": [
    {
     "data": {
      "text/plain": [
       "array([[707,  15],\n",
       "       [ 46,  64]])"
      ]
     },
     "execution_count": 11,
     "metadata": {},
     "output_type": "execute_result"
    }
   ],
   "source": [
    "from sklearn import metrics\n",
    "cnf_matrix = metrics.confusion_matrix(y_test, xgb_preds)\n",
    "cnf_matrix"
   ]
  },
  {
   "cell_type": "code",
   "execution_count": 12,
   "metadata": {},
   "outputs": [
    {
     "name": "stdout",
     "output_type": "stream",
     "text": [
      "Accuracy: 0.9266826923076923\n",
      "Precision: 0.810126582278481\n",
      "Recall: 0.5818181818181818\n"
     ]
    }
   ],
   "source": [
    "print(\"Accuracy:\",metrics.accuracy_score(y_test, xgb_preds))\n",
    "print(\"Precision:\",metrics.precision_score(y_test, xgb_preds))\n",
    "print(\"Recall:\",metrics.recall_score(y_test, xgb_preds))"
   ]
  },
  {
   "cell_type": "code",
   "execution_count": 13,
   "metadata": {},
   "outputs": [],
   "source": [
    "y_pred_proba = clf_xgb.predict_proba(X_test)[::,1]\n",
    "auc = metrics.roc_auc_score(y_test, y_pred_proba)"
   ]
  },
  {
   "cell_type": "code",
   "execution_count": 14,
   "metadata": {},
   "outputs": [
    {
     "name": "stdout",
     "output_type": "stream",
     "text": [
      "0.9078443716947873\n"
     ]
    }
   ],
   "source": [
    "print(auc)"
   ]
  },
  {
   "cell_type": "code",
   "execution_count": 15,
   "metadata": {},
   "outputs": [
    {
     "name": "stdout",
     "output_type": "stream",
     "text": [
      "0.6772486772486772\n"
     ]
    }
   ],
   "source": [
    "f1_xgb = metrics.f1_score(y_test, xgb_preds)\n",
    "print(f1_xgb)"
   ]
  },
  {
   "cell_type": "code",
   "execution_count": null,
   "metadata": {},
   "outputs": [],
   "source": [
    "# XGBoost on complete dataset - normalized data - oversampling"
   ]
  },
  {
   "cell_type": "code",
   "execution_count": 16,
   "metadata": {},
   "outputs": [],
   "source": [
    "from imblearn.over_sampling import RandomOverSampler, SMOTE"
   ]
  },
  {
   "cell_type": "code",
   "execution_count": 17,
   "metadata": {},
   "outputs": [],
   "source": [
    "ros = RandomOverSampler(random_state=123)\n",
    "X_train_ros, y_train_ros= ros.fit_resample(X_train, y_train)"
   ]
  },
  {
   "cell_type": "code",
   "execution_count": 18,
   "metadata": {},
   "outputs": [
    {
     "name": "stdout",
     "output_type": "stream",
     "text": [
      "[13:03:08] WARNING: /opt/concourse/worker/volumes/live/7a2b9f41-3287-451b-6691-43e9a6c0910f/volume/xgboost-split_1619728204606/work/src/learner.cc:1061: Starting in XGBoost 1.3.0, the default evaluation metric used with the objective 'binary:logistic' was changed from 'error' to 'logloss'. Explicitly set eval_metric if you'd like to restore the old behavior.\n"
     ]
    }
   ],
   "source": [
    "import xgboost as xgb\n",
    "clf_xgb = xgb.XGBClassifier(objective = 'binary:logistic', missing = None, random_state = 123, use_label_encoder=False, colsample_bytree = 0.7, learning_rate = 0.01, max_depth = 3, n_estimators = 500)\n",
    "test_model = clf_xgb.fit(X_train_ros, y_train_ros)\n",
    "test_prediction = test_model.predict(X_test)"
   ]
  },
  {
   "cell_type": "code",
   "execution_count": 19,
   "metadata": {},
   "outputs": [
    {
     "data": {
      "text/plain": [
       "array([[631,  91],\n",
       "       [ 20,  90]])"
      ]
     },
     "execution_count": 19,
     "metadata": {},
     "output_type": "execute_result"
    }
   ],
   "source": [
    "cnf_matrix = metrics.confusion_matrix(y_test, test_prediction)\n",
    "cnf_matrix"
   ]
  },
  {
   "cell_type": "code",
   "execution_count": 20,
   "metadata": {},
   "outputs": [
    {
     "name": "stdout",
     "output_type": "stream",
     "text": [
      "Accuracy: 0.8665865384615384\n",
      "Precision: 0.4972375690607735\n",
      "Recall: 0.8181818181818182\n"
     ]
    }
   ],
   "source": [
    "print(\"Accuracy:\",metrics.accuracy_score(y_test, test_prediction))\n",
    "print(\"Precision:\",metrics.precision_score(y_test, test_prediction))\n",
    "print(\"Recall:\",metrics.recall_score(y_test, test_prediction))"
   ]
  },
  {
   "cell_type": "code",
   "execution_count": 21,
   "metadata": {},
   "outputs": [],
   "source": [
    "y_pred_proba_os = clf_xgb.predict_proba(X_test)[::,1]\n",
    "auc_os = metrics.roc_auc_score(y_test, y_pred_proba_os)"
   ]
  },
  {
   "cell_type": "code",
   "execution_count": 22,
   "metadata": {},
   "outputs": [
    {
     "name": "stdout",
     "output_type": "stream",
     "text": [
      "0.9182825484764543\n"
     ]
    }
   ],
   "source": [
    "print(auc_os)"
   ]
  },
  {
   "cell_type": "code",
   "execution_count": 23,
   "metadata": {},
   "outputs": [
    {
     "name": "stdout",
     "output_type": "stream",
     "text": [
      "0.6185567010309279\n"
     ]
    }
   ],
   "source": [
    "f1_xgb_os = metrics.f1_score(y_test, test_prediction)\n",
    "print(f1_xgb_os)"
   ]
  },
  {
   "cell_type": "code",
   "execution_count": 24,
   "metadata": {},
   "outputs": [],
   "source": [
    "#XGBoost on dataset with additional features - normalized data - not oversampled"
   ]
  },
  {
   "cell_type": "code",
   "execution_count": 25,
   "metadata": {},
   "outputs": [],
   "source": [
    "df2 = pd.read_excel('/Users/didyvanbelkom/Documents/02 MSc DSS/THESIS CODE/Jupiter Notebook/df_add_features.xlsx')"
   ]
  },
  {
   "cell_type": "code",
   "execution_count": 26,
   "metadata": {},
   "outputs": [
    {
     "data": {
      "text/html": [
       "<div>\n",
       "<style scoped>\n",
       "    .dataframe tbody tr th:only-of-type {\n",
       "        vertical-align: middle;\n",
       "    }\n",
       "\n",
       "    .dataframe tbody tr th {\n",
       "        vertical-align: top;\n",
       "    }\n",
       "\n",
       "    .dataframe thead th {\n",
       "        text-align: right;\n",
       "    }\n",
       "</style>\n",
       "<table border=\"1\" class=\"dataframe\">\n",
       "  <thead>\n",
       "    <tr style=\"text-align: right;\">\n",
       "      <th></th>\n",
       "      <th>Unnamed: 0</th>\n",
       "      <th>Customer_ID</th>\n",
       "      <th>recency</th>\n",
       "      <th>frequency</th>\n",
       "      <th>monetary</th>\n",
       "      <th>TotalPrice</th>\n",
       "      <th>Top_10%_spend</th>\n",
       "      <th>y1 average quantity</th>\n",
       "      <th>y1 average spend</th>\n",
       "      <th>Country</th>\n",
       "      <th>Customer ID</th>\n",
       "      <th>cluster</th>\n",
       "    </tr>\n",
       "  </thead>\n",
       "  <tbody>\n",
       "    <tr>\n",
       "      <th>0</th>\n",
       "      <td>0</td>\n",
       "      <td>12346</td>\n",
       "      <td>0.439678</td>\n",
       "      <td>0.049020</td>\n",
       "      <td>0.001059</td>\n",
       "      <td>77183.60</td>\n",
       "      <td>1</td>\n",
       "      <td>2.121212</td>\n",
       "      <td>11.298788</td>\n",
       "      <td>United Kingdom</td>\n",
       "      <td>12346</td>\n",
       "      <td>0</td>\n",
       "    </tr>\n",
       "    <tr>\n",
       "      <th>1</th>\n",
       "      <td>1</td>\n",
       "      <td>12347</td>\n",
       "      <td>0.005362</td>\n",
       "      <td>0.004902</td>\n",
       "      <td>0.003782</td>\n",
       "      <td>4310.00</td>\n",
       "      <td>1</td>\n",
       "      <td>11.661972</td>\n",
       "      <td>18.638310</td>\n",
       "      <td>Iceland</td>\n",
       "      <td>12347</td>\n",
       "      <td>0</td>\n",
       "    </tr>\n",
       "    <tr>\n",
       "      <th>2</th>\n",
       "      <td>2</td>\n",
       "      <td>12348</td>\n",
       "      <td>0.195710</td>\n",
       "      <td>0.000000</td>\n",
       "      <td>0.000628</td>\n",
       "      <td>1797.24</td>\n",
       "      <td>0</td>\n",
       "      <td>18.650000</td>\n",
       "      <td>11.108000</td>\n",
       "      <td>Finland</td>\n",
       "      <td>12348</td>\n",
       "      <td>0</td>\n",
       "    </tr>\n",
       "    <tr>\n",
       "      <th>3</th>\n",
       "      <td>3</td>\n",
       "      <td>12349</td>\n",
       "      <td>0.112601</td>\n",
       "      <td>0.009804</td>\n",
       "      <td>0.007642</td>\n",
       "      <td>1757.55</td>\n",
       "      <td>0</td>\n",
       "      <td>9.735294</td>\n",
       "      <td>26.187647</td>\n",
       "      <td>Italy</td>\n",
       "      <td>12349</td>\n",
       "      <td>0</td>\n",
       "    </tr>\n",
       "    <tr>\n",
       "      <th>4</th>\n",
       "      <td>4</td>\n",
       "      <td>12352</td>\n",
       "      <td>0.026810</td>\n",
       "      <td>0.004902</td>\n",
       "      <td>0.000976</td>\n",
       "      <td>2506.04</td>\n",
       "      <td>0</td>\n",
       "      <td>10.444444</td>\n",
       "      <td>19.100000</td>\n",
       "      <td>Norway</td>\n",
       "      <td>12352</td>\n",
       "      <td>0</td>\n",
       "    </tr>\n",
       "  </tbody>\n",
       "</table>\n",
       "</div>"
      ],
      "text/plain": [
       "   Unnamed: 0  Customer_ID   recency  frequency  monetary  TotalPrice  \\\n",
       "0           0        12346  0.439678   0.049020  0.001059    77183.60   \n",
       "1           1        12347  0.005362   0.004902  0.003782     4310.00   \n",
       "2           2        12348  0.195710   0.000000  0.000628     1797.24   \n",
       "3           3        12349  0.112601   0.009804  0.007642     1757.55   \n",
       "4           4        12352  0.026810   0.004902  0.000976     2506.04   \n",
       "\n",
       "   Top_10%_spend  y1 average quantity  y1 average spend         Country  \\\n",
       "0              1             2.121212         11.298788  United Kingdom   \n",
       "1              1            11.661972         18.638310         Iceland   \n",
       "2              0            18.650000         11.108000         Finland   \n",
       "3              0             9.735294         26.187647           Italy   \n",
       "4              0            10.444444         19.100000          Norway   \n",
       "\n",
       "   Customer ID  cluster  \n",
       "0        12346        0  \n",
       "1        12347        0  \n",
       "2        12348        0  \n",
       "3        12349        0  \n",
       "4        12352        0  "
      ]
     },
     "execution_count": 26,
     "metadata": {},
     "output_type": "execute_result"
    }
   ],
   "source": [
    "df2.head()"
   ]
  },
  {
   "cell_type": "code",
   "execution_count": 36,
   "metadata": {},
   "outputs": [
    {
     "data": {
      "text/plain": [
       "United Kingdom          2539\n",
       "Germany                   55\n",
       "France                    39\n",
       "Spain                     14\n",
       "Portugal                  13\n",
       "Belgium                   12\n",
       "Switzerland               12\n",
       "Netherlands                9\n",
       "Austria                    8\n",
       "Denmark                    8\n",
       "Australia                  8\n",
       "Italy                      8\n",
       "Channel Islands            7\n",
       "Sweden                     5\n",
       "Finland                    5\n",
       "Japan                      4\n",
       "Cyprus                     4\n",
       "EIRE                       3\n",
       "Greece                     3\n",
       "Bahrain                    2\n",
       "Norway                     2\n",
       "Poland                     2\n",
       "United Arab Emirates       2\n",
       "Unspecified                2\n",
       "USA                        1\n",
       "Israel                     1\n",
       "Iceland                    1\n",
       "Malta                      1\n",
       "Lithuania                  1\n",
       "Singapore                  1\n",
       "Name: Country, dtype: int64"
      ]
     },
     "execution_count": 36,
     "metadata": {},
     "output_type": "execute_result"
    }
   ],
   "source": [
    "df2['Country'].value_counts()"
   ]
  },
  {
   "cell_type": "code",
   "execution_count": 37,
   "metadata": {},
   "outputs": [],
   "source": [
    "X2 = df2[['recency', 'frequency', 'monetary', 'y1 average quantity', 'y1 average spend']]\n",
    "y2 = df2['Top_10%_spend']"
   ]
  },
  {
   "cell_type": "code",
   "execution_count": 34,
   "metadata": {},
   "outputs": [
    {
     "name": "stdout",
     "output_type": "stream",
     "text": [
      "Fitting 5 folds for each of 54 candidates, totalling 270 fits\n",
      "Best parameters: {'colsample_bytree': 0.7, 'learning_rate': 0.01, 'max_depth': 3, 'n_estimators': 100}\n",
      "Lowest RMSE:  0.28741674369779335\n"
     ]
    }
   ],
   "source": [
    "import xgboost as xgb\n",
    "from sklearn.model_selection import GridSearchCV\n",
    "params = { 'max_depth': [3,6,10],\n",
    "           'learning_rate': [0.01, 0.05, 0.1],\n",
    "           'n_estimators': [100, 500, 1000],\n",
    "           'colsample_bytree': [0.3, 0.7]}\n",
    "\n",
    "xgbr = xgb.XGBClassifier(random_state = 123, use_label_encoder=False, eval_metric = 'error')\n",
    "clf = GridSearchCV(estimator=xgbr, \n",
    "                   param_grid=params,\n",
    "                   scoring='neg_mean_squared_error', \n",
    "                   verbose=1)\n",
    "clf.fit(X2, y2)\n",
    "print(\"Best parameters:\", clf.best_params_)\n",
    "print(\"Lowest RMSE: \", (-clf.best_score_)**(1/2.0))"
   ]
  },
  {
   "cell_type": "code",
   "execution_count": 38,
   "metadata": {},
   "outputs": [],
   "source": [
    "from sklearn.model_selection import train_test_split\n",
    "X_train2,X_test2,y_train2,y_test2=train_test_split(X2,y2,test_size=0.3,random_state=123)"
   ]
  },
  {
   "cell_type": "code",
   "execution_count": 39,
   "metadata": {},
   "outputs": [],
   "source": [
    "import xgboost as xgb\n",
    "clf_xgb2 = xgb.XGBClassifier(objective = 'binary:logistic', missing = None, random_state = 123, use_label_encoder=False, colsample_bytree = 0.7, learning_rate = 0.01, max_depth = 3, n_estimators = 100)"
   ]
  },
  {
   "cell_type": "code",
   "execution_count": 40,
   "metadata": {},
   "outputs": [
    {
     "name": "stdout",
     "output_type": "stream",
     "text": [
      "[0]\tvalidation_0-aucpr:0.68860\n",
      "[1]\tvalidation_0-aucpr:0.73210\n",
      "[2]\tvalidation_0-aucpr:0.74107\n",
      "[3]\tvalidation_0-aucpr:0.73825\n",
      "[4]\tvalidation_0-aucpr:0.73655\n",
      "[5]\tvalidation_0-aucpr:0.73695\n",
      "[6]\tvalidation_0-aucpr:0.74737\n",
      "[7]\tvalidation_0-aucpr:0.74636\n",
      "[8]\tvalidation_0-aucpr:0.74703\n",
      "[9]\tvalidation_0-aucpr:0.74668\n",
      "[10]\tvalidation_0-aucpr:0.74708\n",
      "[11]\tvalidation_0-aucpr:0.74506\n",
      "[12]\tvalidation_0-aucpr:0.74573\n",
      "[13]\tvalidation_0-aucpr:0.74617\n",
      "[14]\tvalidation_0-aucpr:0.74457\n",
      "[15]\tvalidation_0-aucpr:0.74295\n"
     ]
    },
    {
     "data": {
      "text/plain": [
       "XGBClassifier(base_score=0.5, booster='gbtree', colsample_bylevel=1,\n",
       "              colsample_bynode=1, colsample_bytree=0.7, gamma=0, gpu_id=-1,\n",
       "              importance_type='gain', interaction_constraints='',\n",
       "              learning_rate=0.01, max_delta_step=0, max_depth=3,\n",
       "              min_child_weight=1, missing=None, monotone_constraints='()',\n",
       "              n_estimators=100, n_jobs=8, num_parallel_tree=1, random_state=123,\n",
       "              reg_alpha=0, reg_lambda=1, scale_pos_weight=1, subsample=1,\n",
       "              tree_method='exact', use_label_encoder=False,\n",
       "              validate_parameters=1, verbosity=None)"
      ]
     },
     "execution_count": 40,
     "metadata": {},
     "output_type": "execute_result"
    }
   ],
   "source": [
    "clf_xgb2.fit(X_train2, \n",
    "            y_train2,\n",
    "            verbose = True,\n",
    "            early_stopping_rounds = 10,\n",
    "            eval_metric = 'aucpr',\n",
    "            eval_set = [[X_test2, y_test2]])"
   ]
  },
  {
   "cell_type": "code",
   "execution_count": 41,
   "metadata": {},
   "outputs": [],
   "source": [
    "xgb_preds2 = clf_xgb2.predict(X_test2)"
   ]
  },
  {
   "cell_type": "code",
   "execution_count": 42,
   "metadata": {},
   "outputs": [
    {
     "data": {
      "text/plain": [
       "array([[707,  15],\n",
       "       [ 45,  65]])"
      ]
     },
     "execution_count": 42,
     "metadata": {},
     "output_type": "execute_result"
    }
   ],
   "source": [
    "from sklearn import metrics\n",
    "cnf_matrix2 = metrics.confusion_matrix(y_test2, xgb_preds2)\n",
    "cnf_matrix2"
   ]
  },
  {
   "cell_type": "code",
   "execution_count": 43,
   "metadata": {},
   "outputs": [
    {
     "name": "stdout",
     "output_type": "stream",
     "text": [
      "Accuracy: 0.9278846153846154\n",
      "Precision: 0.8125\n",
      "Recall: 0.5909090909090909\n"
     ]
    }
   ],
   "source": [
    "print(\"Accuracy:\",metrics.accuracy_score(y_test2, xgb_preds2))\n",
    "print(\"Precision:\",metrics.precision_score(y_test2, xgb_preds2))\n",
    "print(\"Recall:\",metrics.recall_score(y_test2, xgb_preds2))"
   ]
  },
  {
   "cell_type": "code",
   "execution_count": 44,
   "metadata": {},
   "outputs": [],
   "source": [
    "y_pred_proba2 = clf_xgb2.predict_proba(X_test2)[::,1]\n",
    "auc2 = metrics.roc_auc_score(y_test2, y_pred_proba2)"
   ]
  },
  {
   "cell_type": "code",
   "execution_count": 45,
   "metadata": {},
   "outputs": [
    {
     "name": "stdout",
     "output_type": "stream",
     "text": [
      "0.9093112566104256\n"
     ]
    }
   ],
   "source": [
    "print(auc2)"
   ]
  },
  {
   "cell_type": "code",
   "execution_count": 46,
   "metadata": {},
   "outputs": [
    {
     "name": "stdout",
     "output_type": "stream",
     "text": [
      "0.6842105263157896\n"
     ]
    }
   ],
   "source": [
    "f1_xgb2 = metrics.f1_score(y_test2, xgb_preds2)\n",
    "print(f1_xgb2)"
   ]
  },
  {
   "cell_type": "code",
   "execution_count": null,
   "metadata": {},
   "outputs": [],
   "source": [
    "#XGBoost on dataset with additional features - normalized data - oversampled"
   ]
  },
  {
   "cell_type": "code",
   "execution_count": 50,
   "metadata": {},
   "outputs": [],
   "source": [
    "from imblearn.over_sampling import RandomOverSampler, SMOTE"
   ]
  },
  {
   "cell_type": "code",
   "execution_count": 51,
   "metadata": {},
   "outputs": [],
   "source": [
    "ros = RandomOverSampler(random_state=123)\n",
    "X_train_ros2, y_train_ros2= ros.fit_resample(X_train2, y_train2)"
   ]
  },
  {
   "cell_type": "code",
   "execution_count": 52,
   "metadata": {},
   "outputs": [
    {
     "name": "stdout",
     "output_type": "stream",
     "text": [
      "[11:57:24] WARNING: /opt/concourse/worker/volumes/live/7a2b9f41-3287-451b-6691-43e9a6c0910f/volume/xgboost-split_1619728204606/work/src/learner.cc:1061: Starting in XGBoost 1.3.0, the default evaluation metric used with the objective 'binary:logistic' was changed from 'error' to 'logloss'. Explicitly set eval_metric if you'd like to restore the old behavior.\n"
     ]
    }
   ],
   "source": [
    "import xgboost as xgb\n",
    "clf_xgb2 = xgb.XGBClassifier(objective = 'binary:logistic', missing = None, random_state = 123, use_label_encoder=False, colsample_bytree = 0.7, learning_rate = 0.01, max_depth = 3, n_estimators = 100)\n",
    "test_model2 = clf_xgb2.fit(X_train_ros2, y_train_ros2)\n",
    "test_prediction2 = test_model2.predict(X_test2)"
   ]
  },
  {
   "cell_type": "code",
   "execution_count": 53,
   "metadata": {},
   "outputs": [
    {
     "data": {
      "text/plain": [
       "array([[634,  88],\n",
       "       [ 20,  90]])"
      ]
     },
     "execution_count": 53,
     "metadata": {},
     "output_type": "execute_result"
    }
   ],
   "source": [
    "cnf_matrix = metrics.confusion_matrix(y_test2, test_prediction2)\n",
    "cnf_matrix"
   ]
  },
  {
   "cell_type": "code",
   "execution_count": 54,
   "metadata": {},
   "outputs": [
    {
     "name": "stdout",
     "output_type": "stream",
     "text": [
      "Accuracy: 0.8701923076923077\n",
      "Precision: 0.5056179775280899\n",
      "Recall: 0.8181818181818182\n"
     ]
    }
   ],
   "source": [
    "print(\"Accuracy:\",metrics.accuracy_score(y_test2, test_prediction2))\n",
    "print(\"Precision:\",metrics.precision_score(y_test2, test_prediction2))\n",
    "print(\"Recall:\",metrics.recall_score(y_test2, test_prediction2))"
   ]
  },
  {
   "cell_type": "code",
   "execution_count": 55,
   "metadata": {},
   "outputs": [],
   "source": [
    "y_pred_proba2_os = clf_xgb2.predict_proba(X_test)[::,1]\n",
    "auc_2os = metrics.roc_auc_score(y_test, y_pred_proba2_os)"
   ]
  },
  {
   "cell_type": "code",
   "execution_count": 56,
   "metadata": {},
   "outputs": [
    {
     "name": "stdout",
     "output_type": "stream",
     "text": [
      "0.9177159405691261\n"
     ]
    }
   ],
   "source": [
    "print(auc_2os)"
   ]
  },
  {
   "cell_type": "code",
   "execution_count": 57,
   "metadata": {},
   "outputs": [
    {
     "name": "stdout",
     "output_type": "stream",
     "text": [
      "0.6250000000000001\n"
     ]
    }
   ],
   "source": [
    "f1_xgb_2os = metrics.f1_score(y_test2, test_prediction2)\n",
    "print(f1_xgb_2os)"
   ]
  }
 ],
 "metadata": {
  "kernelspec": {
   "display_name": "Python 3",
   "language": "python",
   "name": "python3"
  },
  "language_info": {
   "codemirror_mode": {
    "name": "ipython",
    "version": 3
   },
   "file_extension": ".py",
   "mimetype": "text/x-python",
   "name": "python",
   "nbconvert_exporter": "python",
   "pygments_lexer": "ipython3",
   "version": "3.8.5"
  }
 },
 "nbformat": 4,
 "nbformat_minor": 4
}
